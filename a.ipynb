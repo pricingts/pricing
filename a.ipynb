{
 "cells": [
  {
   "cell_type": "code",
   "execution_count": 8,
   "metadata": {},
   "outputs": [],
   "source": [
    "import pandas as pd"
   ]
  },
  {
   "cell_type": "code",
   "execution_count": 3,
   "metadata": {},
   "outputs": [],
   "source": [
    "cities = pd.read_csv(\"cities_world.csv\")"
   ]
  },
  {
   "cell_type": "code",
   "execution_count": 4,
   "metadata": {},
   "outputs": [
    {
     "data": {
      "text/html": [
       "<div>\n",
       "<style scoped>\n",
       "    .dataframe tbody tr th:only-of-type {\n",
       "        vertical-align: middle;\n",
       "    }\n",
       "\n",
       "    .dataframe tbody tr th {\n",
       "        vertical-align: top;\n",
       "    }\n",
       "\n",
       "    .dataframe thead th {\n",
       "        text-align: right;\n",
       "    }\n",
       "</style>\n",
       "<table border=\"1\" class=\"dataframe\">\n",
       "  <thead>\n",
       "    <tr style=\"text-align: right;\">\n",
       "      <th></th>\n",
       "      <th>Country</th>\n",
       "      <th>City</th>\n",
       "    </tr>\n",
       "  </thead>\n",
       "  <tbody>\n",
       "    <tr>\n",
       "      <th>0</th>\n",
       "      <td>Andorra</td>\n",
       "      <td>Andorra la Vella</td>\n",
       "    </tr>\n",
       "    <tr>\n",
       "      <th>1</th>\n",
       "      <td>Andorra</td>\n",
       "      <td>Canillo</td>\n",
       "    </tr>\n",
       "    <tr>\n",
       "      <th>2</th>\n",
       "      <td>Andorra</td>\n",
       "      <td>Encamp</td>\n",
       "    </tr>\n",
       "    <tr>\n",
       "      <th>3</th>\n",
       "      <td>Andorra</td>\n",
       "      <td>Escaldes-Engordany</td>\n",
       "    </tr>\n",
       "    <tr>\n",
       "      <th>4</th>\n",
       "      <td>Andorra</td>\n",
       "      <td>Escas</td>\n",
       "    </tr>\n",
       "  </tbody>\n",
       "</table>\n",
       "</div>"
      ],
      "text/plain": [
       "   Country                City\n",
       "0  Andorra    Andorra la Vella\n",
       "1  Andorra             Canillo\n",
       "2  Andorra              Encamp\n",
       "3  Andorra  Escaldes-Engordany\n",
       "4  Andorra               Escas"
      ]
     },
     "execution_count": 4,
     "metadata": {},
     "output_type": "execute_result"
    }
   ],
   "source": [
    "cities.head()"
   ]
  },
  {
   "cell_type": "code",
   "execution_count": 9,
   "metadata": {},
   "outputs": [],
   "source": [
    "cities[\"country_city\"] = cities[\"City\"] + \", \" + cities[\"Country\"]"
   ]
  },
  {
   "cell_type": "code",
   "execution_count": 10,
   "metadata": {},
   "outputs": [
    {
     "data": {
      "text/plain": [
       "112048"
      ]
     },
     "execution_count": 10,
     "metadata": {},
     "output_type": "execute_result"
    }
   ],
   "source": [
    "len((cities))"
   ]
  },
  {
   "cell_type": "code",
   "execution_count": 6,
   "metadata": {},
   "outputs": [
    {
     "data": {
      "text/html": [
       "<div>\n",
       "<style scoped>\n",
       "    .dataframe tbody tr th:only-of-type {\n",
       "        vertical-align: middle;\n",
       "    }\n",
       "\n",
       "    .dataframe tbody tr th {\n",
       "        vertical-align: top;\n",
       "    }\n",
       "\n",
       "    .dataframe thead th {\n",
       "        text-align: right;\n",
       "    }\n",
       "</style>\n",
       "<table border=\"1\" class=\"dataframe\">\n",
       "  <thead>\n",
       "    <tr style=\"text-align: right;\">\n",
       "      <th></th>\n",
       "      <th>Country</th>\n",
       "      <th>City</th>\n",
       "      <th>country_city</th>\n",
       "    </tr>\n",
       "  </thead>\n",
       "  <tbody>\n",
       "    <tr>\n",
       "      <th>0</th>\n",
       "      <td>Andorra</td>\n",
       "      <td>Andorra la Vella</td>\n",
       "      <td>Andorra la Vella, Andorra</td>\n",
       "    </tr>\n",
       "    <tr>\n",
       "      <th>1</th>\n",
       "      <td>Andorra</td>\n",
       "      <td>Canillo</td>\n",
       "      <td>Canillo, Andorra</td>\n",
       "    </tr>\n",
       "    <tr>\n",
       "      <th>2</th>\n",
       "      <td>Andorra</td>\n",
       "      <td>Encamp</td>\n",
       "      <td>Encamp, Andorra</td>\n",
       "    </tr>\n",
       "    <tr>\n",
       "      <th>3</th>\n",
       "      <td>Andorra</td>\n",
       "      <td>Escaldes-Engordany</td>\n",
       "      <td>Escaldes-Engordany, Andorra</td>\n",
       "    </tr>\n",
       "    <tr>\n",
       "      <th>4</th>\n",
       "      <td>Andorra</td>\n",
       "      <td>Escas</td>\n",
       "      <td>Escas, Andorra</td>\n",
       "    </tr>\n",
       "  </tbody>\n",
       "</table>\n",
       "</div>"
      ],
      "text/plain": [
       "   Country                City                 country_city\n",
       "0  Andorra    Andorra la Vella    Andorra la Vella, Andorra\n",
       "1  Andorra             Canillo             Canillo, Andorra\n",
       "2  Andorra              Encamp              Encamp, Andorra\n",
       "3  Andorra  Escaldes-Engordany  Escaldes-Engordany, Andorra\n",
       "4  Andorra               Escas               Escas, Andorra"
      ]
     },
     "execution_count": 6,
     "metadata": {},
     "output_type": "execute_result"
    }
   ],
   "source": [
    "cities.head()"
   ]
  },
  {
   "cell_type": "code",
   "execution_count": 7,
   "metadata": {},
   "outputs": [],
   "source": [
    "cities.to_csv(\"cities_world.csv\", index=False)"
   ]
  },
  {
   "cell_type": "code",
   "execution_count": 1,
   "metadata": {},
   "outputs": [
    {
     "name": "stdout",
     "output_type": "stream",
     "text": [
      "['temperature', 'client', 'weight', 'request_id', 'lcl_description', 'reinforced', 'flexitank', 'pickup_city', 'commodity', 'isotank', 'info_flatrack', 'imo_cargo', 'commercial', 'hs_code', 'drayage_reefer', 'delivery_address', 'stackable', 'final_comments', 'country_origin', 'city_origin', 'lcl_fcl_mode', 'modality', 'pickup_address', 'time', 'temperature_control ', 'incoterm', 'ground_service', 'un_code', 'positioning', 'service', 'city_destination', 'food_grade', 'zip_code_destination', 'info_pallets_str', 'destination_cost', 'imo_type', 'pickup_thermo_king', 'routes_info', 'transport_type', 'client_reference', 'cargo_value', 'reefer_cont_type', 'zip_code_origin', 'type_container', 'country_destination']\n"
     ]
    }
   ],
   "source": [
    "freight_columns = [\n",
    "    \"request_id\", \"time\", \"commercial\", \"service\", \"client\", \"client_reference\",\"incoterm\", \"transport_type\", \"modality\", \"routes_info\", \"pickup_address\", \"zip_code_origin\", \"delivery_address\", \"zip_code_destination\", \n",
    "    \"commodity\", \"hs_code\", \"cargo_value\", \"weight\", \"destination_cost\", \n",
    "    \"type_container\", \"info_flatrack\", \"reinforced\", \"food_grade\", \"isotank\", \"flexitank\", \"imo_cargo\", \"imo_type\", \"un_code\", \"positioning\", \"pickup_city\", \"lcl_fcl_mode\", \"drayage_reefer\", \"reefer_cont_type\", \"pickup_thermo_king\", \"temperature\", \"temperature_control \",\n",
    "    \"info_pallets_str\", \"lcl_description\", \"stackable\",\n",
    "    \"final_comments\"\n",
    "]\n",
    "\n",
    "transport_columns = [\n",
    "    \"request_id\", \"time\", \"commercial\", \"service\", \"client\", \"client_reference\", \"country_origin\", \"city_origin\", \"pickup_address\", \"zip_code_origin\", \"country_destination\", \"city_destination\", \"delivery_address\", \"zip_code_destination\", \"commodity\", \"hs_code\",\n",
    "    \"imo_cargo\", \"imo_type\", \"un_code\", \"ground_service\", \"temperature\", \"cargo_value\",\n",
    "    \"info_pallets_str\", \"lcl_description\", \"stackable\",\n",
    "    \"final_comments\"\n",
    "]\n",
    "\n",
    "customs_columns = [\n",
    "    \"request_id\", \"time\", \"commercial\", \"service\", \"client\", \"client_reference\",\"country_origin\", \"country_destination\", \"commodity\", \"hs_code\", \"imo_cargo\", \"imo_type\", \"un_code\", \"cargo_value\",\n",
    "    \"info_pallets_str\", \"final_comments\"\n",
    "]\n",
    "\n",
    "all_quotes_columns = list(set(freight_columns + transport_columns + customs_columns))\n",
    "print(all_quotes_columns)"
   ]
  }
 ],
 "metadata": {
  "kernelspec": {
   "display_name": "forms",
   "language": "python",
   "name": "python3"
  },
  "language_info": {
   "codemirror_mode": {
    "name": "ipython",
    "version": 3
   },
   "file_extension": ".py",
   "mimetype": "text/x-python",
   "name": "python",
   "nbconvert_exporter": "python",
   "pygments_lexer": "ipython3",
   "version": "3.13.1"
  }
 },
 "nbformat": 4,
 "nbformat_minor": 2
}
