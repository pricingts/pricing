{
 "cells": [
  {
   "cell_type": "code",
   "execution_count": 2,
   "metadata": {},
   "outputs": [],
   "source": [
    "import pandas as pd"
   ]
  },
  {
   "cell_type": "code",
   "execution_count": 3,
   "metadata": {},
   "outputs": [],
   "source": [
    "puertos = pd.read_csv('output_port_world.csv')\n",
    "ciudades = pd.read_csv('output_cities_world.csv')"
   ]
  },
  {
   "cell_type": "code",
   "execution_count": 4,
   "metadata": {},
   "outputs": [
    {
     "data": {
      "text/html": [
       "<div>\n",
       "<style scoped>\n",
       "    .dataframe tbody tr th:only-of-type {\n",
       "        vertical-align: middle;\n",
       "    }\n",
       "\n",
       "    .dataframe tbody tr th {\n",
       "        vertical-align: top;\n",
       "    }\n",
       "\n",
       "    .dataframe thead th {\n",
       "        text-align: right;\n",
       "    }\n",
       "</style>\n",
       "<table border=\"1\" class=\"dataframe\">\n",
       "  <thead>\n",
       "    <tr style=\"text-align: right;\">\n",
       "      <th></th>\n",
       "      <th>port code</th>\n",
       "      <th>port name</th>\n",
       "      <th>country</th>\n",
       "    </tr>\n",
       "  </thead>\n",
       "  <tbody>\n",
       "    <tr>\n",
       "      <th>0</th>\n",
       "      <td>ADALV</td>\n",
       "      <td>Andorra la Vella</td>\n",
       "      <td>Andorra</td>\n",
       "    </tr>\n",
       "    <tr>\n",
       "      <th>1</th>\n",
       "      <td>ADCAN</td>\n",
       "      <td>Canillo</td>\n",
       "      <td>Andorra</td>\n",
       "    </tr>\n",
       "    <tr>\n",
       "      <th>2</th>\n",
       "      <td>ADENC</td>\n",
       "      <td>Encamp</td>\n",
       "      <td>Andorra</td>\n",
       "    </tr>\n",
       "    <tr>\n",
       "      <th>3</th>\n",
       "      <td>ADESC</td>\n",
       "      <td>Escaldes-Engordany</td>\n",
       "      <td>Andorra</td>\n",
       "    </tr>\n",
       "    <tr>\n",
       "      <th>4</th>\n",
       "      <td>ADFMO</td>\n",
       "      <td>La Farga de Moles</td>\n",
       "      <td>Andorra</td>\n",
       "    </tr>\n",
       "  </tbody>\n",
       "</table>\n",
       "</div>"
      ],
      "text/plain": [
       "  port code           port name  country\n",
       "0     ADALV    Andorra la Vella  Andorra\n",
       "1     ADCAN             Canillo  Andorra\n",
       "2     ADENC              Encamp  Andorra\n",
       "3     ADESC  Escaldes-Engordany  Andorra\n",
       "4     ADFMO   La Farga de Moles  Andorra"
      ]
     },
     "execution_count": 4,
     "metadata": {},
     "output_type": "execute_result"
    }
   ],
   "source": [
    "puertos.head()"
   ]
  },
  {
   "cell_type": "code",
   "execution_count": 5,
   "metadata": {},
   "outputs": [
    {
     "data": {
      "text/html": [
       "<div>\n",
       "<style scoped>\n",
       "    .dataframe tbody tr th:only-of-type {\n",
       "        vertical-align: middle;\n",
       "    }\n",
       "\n",
       "    .dataframe tbody tr th {\n",
       "        vertical-align: top;\n",
       "    }\n",
       "\n",
       "    .dataframe thead th {\n",
       "        text-align: right;\n",
       "    }\n",
       "</style>\n",
       "<table border=\"1\" class=\"dataframe\">\n",
       "  <thead>\n",
       "    <tr style=\"text-align: right;\">\n",
       "      <th></th>\n",
       "      <th>port code</th>\n",
       "      <th>port name</th>\n",
       "      <th>country</th>\n",
       "      <th>port_country</th>\n",
       "    </tr>\n",
       "  </thead>\n",
       "  <tbody>\n",
       "    <tr>\n",
       "      <th>0</th>\n",
       "      <td>ADALV</td>\n",
       "      <td>Andorra la Vella</td>\n",
       "      <td>Andorra</td>\n",
       "      <td>Andorra la Vella, Andorra</td>\n",
       "    </tr>\n",
       "    <tr>\n",
       "      <th>1</th>\n",
       "      <td>ADCAN</td>\n",
       "      <td>Canillo</td>\n",
       "      <td>Andorra</td>\n",
       "      <td>Canillo, Andorra</td>\n",
       "    </tr>\n",
       "    <tr>\n",
       "      <th>2</th>\n",
       "      <td>ADENC</td>\n",
       "      <td>Encamp</td>\n",
       "      <td>Andorra</td>\n",
       "      <td>Encamp, Andorra</td>\n",
       "    </tr>\n",
       "    <tr>\n",
       "      <th>3</th>\n",
       "      <td>ADESC</td>\n",
       "      <td>Escaldes-Engordany</td>\n",
       "      <td>Andorra</td>\n",
       "      <td>Escaldes-Engordany, Andorra</td>\n",
       "    </tr>\n",
       "    <tr>\n",
       "      <th>4</th>\n",
       "      <td>ADFMO</td>\n",
       "      <td>La Farga de Moles</td>\n",
       "      <td>Andorra</td>\n",
       "      <td>La Farga de Moles, Andorra</td>\n",
       "    </tr>\n",
       "  </tbody>\n",
       "</table>\n",
       "</div>"
      ],
      "text/plain": [
       "  port code           port name  country                 port_country\n",
       "0     ADALV    Andorra la Vella  Andorra    Andorra la Vella, Andorra\n",
       "1     ADCAN             Canillo  Andorra             Canillo, Andorra\n",
       "2     ADENC              Encamp  Andorra              Encamp, Andorra\n",
       "3     ADESC  Escaldes-Engordany  Andorra  Escaldes-Engordany, Andorra\n",
       "4     ADFMO   La Farga de Moles  Andorra   La Farga de Moles, Andorra"
      ]
     },
     "execution_count": 5,
     "metadata": {},
     "output_type": "execute_result"
    }
   ],
   "source": [
    "puertos[\"port_country\"] = puertos[\"port name\"] + \", \" + puertos[\"country\"]\n",
    "puertos.head()"
   ]
  },
  {
   "cell_type": "code",
   "execution_count": 6,
   "metadata": {},
   "outputs": [],
   "source": [
    "puertos = puertos.drop(columns=[\"port code\", \"port name\", \"country\"])"
   ]
  },
  {
   "cell_type": "code",
   "execution_count": 7,
   "metadata": {},
   "outputs": [
    {
     "data": {
      "text/html": [
       "<div>\n",
       "<style scoped>\n",
       "    .dataframe tbody tr th:only-of-type {\n",
       "        vertical-align: middle;\n",
       "    }\n",
       "\n",
       "    .dataframe tbody tr th {\n",
       "        vertical-align: top;\n",
       "    }\n",
       "\n",
       "    .dataframe thead th {\n",
       "        text-align: right;\n",
       "    }\n",
       "</style>\n",
       "<table border=\"1\" class=\"dataframe\">\n",
       "  <thead>\n",
       "    <tr style=\"text-align: right;\">\n",
       "      <th></th>\n",
       "      <th>Country</th>\n",
       "      <th>Country Code</th>\n",
       "      <th>City</th>\n",
       "      <th>CityCode</th>\n",
       "    </tr>\n",
       "  </thead>\n",
       "  <tbody>\n",
       "    <tr>\n",
       "      <th>0</th>\n",
       "      <td>ANDORRA</td>\n",
       "      <td>AD</td>\n",
       "      <td>Andorra la Vella</td>\n",
       "      <td>ADALV</td>\n",
       "    </tr>\n",
       "    <tr>\n",
       "      <th>1</th>\n",
       "      <td>ANDORRA</td>\n",
       "      <td>AD</td>\n",
       "      <td>Canillo</td>\n",
       "      <td>ADCAN</td>\n",
       "    </tr>\n",
       "    <tr>\n",
       "      <th>2</th>\n",
       "      <td>ANDORRA</td>\n",
       "      <td>AD</td>\n",
       "      <td>Encamp</td>\n",
       "      <td>ADENC</td>\n",
       "    </tr>\n",
       "    <tr>\n",
       "      <th>3</th>\n",
       "      <td>ANDORRA</td>\n",
       "      <td>AD</td>\n",
       "      <td>Escaldes-Engordany</td>\n",
       "      <td>ADESC</td>\n",
       "    </tr>\n",
       "    <tr>\n",
       "      <th>4</th>\n",
       "      <td>ANDORRA</td>\n",
       "      <td>AD</td>\n",
       "      <td>Escas</td>\n",
       "      <td>ADEAC</td>\n",
       "    </tr>\n",
       "  </tbody>\n",
       "</table>\n",
       "</div>"
      ],
      "text/plain": [
       "   Country Country Code                City CityCode\n",
       "0  ANDORRA           AD    Andorra la Vella    ADALV\n",
       "1  ANDORRA           AD             Canillo    ADCAN\n",
       "2  ANDORRA           AD              Encamp    ADENC\n",
       "3  ANDORRA           AD  Escaldes-Engordany    ADESC\n",
       "4  ANDORRA           AD               Escas    ADEAC"
      ]
     },
     "execution_count": 7,
     "metadata": {},
     "output_type": "execute_result"
    }
   ],
   "source": [
    "ciudades.head()"
   ]
  },
  {
   "cell_type": "code",
   "execution_count": 8,
   "metadata": {},
   "outputs": [],
   "source": [
    "ciudades['Country'] = ciudades['Country'].str.capitalize()"
   ]
  },
  {
   "cell_type": "code",
   "execution_count": 10,
   "metadata": {},
   "outputs": [],
   "source": [
    "ciudades = ciudades.drop(columns=[\"Country Code\", \"CityCode\"])"
   ]
  },
  {
   "cell_type": "code",
   "execution_count": 11,
   "metadata": {},
   "outputs": [
    {
     "data": {
      "text/html": [
       "<div>\n",
       "<style scoped>\n",
       "    .dataframe tbody tr th:only-of-type {\n",
       "        vertical-align: middle;\n",
       "    }\n",
       "\n",
       "    .dataframe tbody tr th {\n",
       "        vertical-align: top;\n",
       "    }\n",
       "\n",
       "    .dataframe thead th {\n",
       "        text-align: right;\n",
       "    }\n",
       "</style>\n",
       "<table border=\"1\" class=\"dataframe\">\n",
       "  <thead>\n",
       "    <tr style=\"text-align: right;\">\n",
       "      <th></th>\n",
       "      <th>Country</th>\n",
       "      <th>City</th>\n",
       "    </tr>\n",
       "  </thead>\n",
       "  <tbody>\n",
       "    <tr>\n",
       "      <th>0</th>\n",
       "      <td>Andorra</td>\n",
       "      <td>Andorra la Vella</td>\n",
       "    </tr>\n",
       "    <tr>\n",
       "      <th>1</th>\n",
       "      <td>Andorra</td>\n",
       "      <td>Canillo</td>\n",
       "    </tr>\n",
       "    <tr>\n",
       "      <th>2</th>\n",
       "      <td>Andorra</td>\n",
       "      <td>Encamp</td>\n",
       "    </tr>\n",
       "    <tr>\n",
       "      <th>3</th>\n",
       "      <td>Andorra</td>\n",
       "      <td>Escaldes-Engordany</td>\n",
       "    </tr>\n",
       "    <tr>\n",
       "      <th>4</th>\n",
       "      <td>Andorra</td>\n",
       "      <td>Escas</td>\n",
       "    </tr>\n",
       "  </tbody>\n",
       "</table>\n",
       "</div>"
      ],
      "text/plain": [
       "   Country                City\n",
       "0  Andorra    Andorra la Vella\n",
       "1  Andorra             Canillo\n",
       "2  Andorra              Encamp\n",
       "3  Andorra  Escaldes-Engordany\n",
       "4  Andorra               Escas"
      ]
     },
     "execution_count": 11,
     "metadata": {},
     "output_type": "execute_result"
    }
   ],
   "source": [
    "ciudades.head()"
   ]
  },
  {
   "cell_type": "code",
   "execution_count": 12,
   "metadata": {},
   "outputs": [],
   "source": [
    "puertos.to_csv(\"ports_world.csv\", index=False)\n",
    "ciudades.to_csv(\"cities_world.csv\", index=False)"
   ]
  },
  {
   "cell_type": "code",
   "execution_count": 2,
   "metadata": {},
   "outputs": [],
   "source": [
    "import requests\n",
    "import pandas as pd\n",
    "from io import StringIO\n",
    "\n",
    "def extract_json_to_csv_and_excel_optimized(url, csv_file, excel_file):\n",
    "    \"\"\"\n",
    "    Fetches JSON data from a URL and saves it to CSV and Excel files efficiently.\n",
    "\n",
    "    Args:\n",
    "        url (str): URL of the JSON data.\n",
    "        csv_file (str): Path to save the CSV file.\n",
    "        excel_file (str): Path to save the Excel file.\n",
    "    \"\"\"\n",
    "    try:\n",
    "        response = requests.get(url)\n",
    "        response.raise_for_status() \n",
    "\n",
    "        content = response.content.decode('utf-8-sig') \n",
    "        data = pd.read_json(StringIO(content)) \n",
    "\n",
    "        data.to_csv(csv_file, index=False, encoding='utf-8')\n",
    "        print(f\"Data successfully saved to {csv_file}\")\n",
    "\n",
    "        with pd.ExcelWriter(excel_file, engine='openpyxl') as writer:\n",
    "            safe_sheet_name = \"Data\" \n",
    "            data.to_excel(writer, index=False, sheet_name=safe_sheet_name)\n",
    "        print(f\"Data successfully saved to {excel_file}\")\n",
    "\n",
    "    except Exception as e:\n",
    "        print(f\"An error occurred: {e}\")"
   ]
  },
  {
   "cell_type": "code",
   "execution_count": 6,
   "metadata": {},
   "outputs": [
    {
     "name": "stdout",
     "output_type": "stream",
     "text": [
      "Data successfully saved to aeropuertos.csv\n",
      "Data successfully saved to aeropuertos.xlsx\n"
     ]
    }
   ],
   "source": [
    "csv_file = \"aeropuertos.csv\"\n",
    "excel_file = \"aeropuertos.xlsx\"\n",
    "url = \"https://freightanchor.com/assets/json/airports-codes.json?_=1737753629050\"\n",
    "\n",
    "extract_json_to_csv_and_excel_optimized(url, csv_file, excel_file)"
   ]
  },
  {
   "cell_type": "code",
   "execution_count": 7,
   "metadata": {},
   "outputs": [],
   "source": [
    "df = pd.read_csv('aeropuertos.csv')"
   ]
  },
  {
   "cell_type": "code",
   "execution_count": 8,
   "metadata": {},
   "outputs": [
    {
     "data": {
      "text/html": [
       "<div>\n",
       "<style scoped>\n",
       "    .dataframe tbody tr th:only-of-type {\n",
       "        vertical-align: middle;\n",
       "    }\n",
       "\n",
       "    .dataframe tbody tr th {\n",
       "        vertical-align: top;\n",
       "    }\n",
       "\n",
       "    .dataframe thead th {\n",
       "        text-align: right;\n",
       "    }\n",
       "</style>\n",
       "<table border=\"1\" class=\"dataframe\">\n",
       "  <thead>\n",
       "    <tr style=\"text-align: right;\">\n",
       "      <th></th>\n",
       "      <th>city</th>\n",
       "      <th>country</th>\n",
       "      <th>port code</th>\n",
       "    </tr>\n",
       "  </thead>\n",
       "  <tbody>\n",
       "    <tr>\n",
       "      <th>0</th>\n",
       "      <td>Aalborg</td>\n",
       "      <td>Denmark</td>\n",
       "      <td>AAL</td>\n",
       "    </tr>\n",
       "    <tr>\n",
       "      <th>1</th>\n",
       "      <td>Aalesund</td>\n",
       "      <td>Norway</td>\n",
       "      <td>AES</td>\n",
       "    </tr>\n",
       "    <tr>\n",
       "      <th>2</th>\n",
       "      <td>Aarhus</td>\n",
       "      <td>Denmark</td>\n",
       "      <td>AAR</td>\n",
       "    </tr>\n",
       "    <tr>\n",
       "      <th>3</th>\n",
       "      <td>Abbotsford</td>\n",
       "      <td>BC</td>\n",
       "      <td>Canada</td>\n",
       "    </tr>\n",
       "    <tr>\n",
       "      <th>4</th>\n",
       "      <td>Abbotsford</td>\n",
       "      <td>BC</td>\n",
       "      <td>Canada</td>\n",
       "    </tr>\n",
       "    <tr>\n",
       "      <th>...</th>\n",
       "      <td>...</td>\n",
       "      <td>...</td>\n",
       "      <td>...</td>\n",
       "    </tr>\n",
       "    <tr>\n",
       "      <th>1574</th>\n",
       "      <td>Zanzibar</td>\n",
       "      <td>Tanzania</td>\n",
       "      <td>ZNZ</td>\n",
       "    </tr>\n",
       "    <tr>\n",
       "      <th>1575</th>\n",
       "      <td>Zaragoza</td>\n",
       "      <td>Spain</td>\n",
       "      <td>ZAZ</td>\n",
       "    </tr>\n",
       "    <tr>\n",
       "      <th>1576</th>\n",
       "      <td>Zhengzhou</td>\n",
       "      <td>China</td>\n",
       "      <td>CGO</td>\n",
       "    </tr>\n",
       "    <tr>\n",
       "      <th>1577</th>\n",
       "      <td>Zhoushan</td>\n",
       "      <td>China</td>\n",
       "      <td>HSN</td>\n",
       "    </tr>\n",
       "    <tr>\n",
       "      <th>1578</th>\n",
       "      <td>Zurich</td>\n",
       "      <td>Switzerland</td>\n",
       "      <td>ZRH</td>\n",
       "    </tr>\n",
       "  </tbody>\n",
       "</table>\n",
       "<p>1579 rows × 3 columns</p>\n",
       "</div>"
      ],
      "text/plain": [
       "            city      country port code\n",
       "0        Aalborg      Denmark       AAL\n",
       "1       Aalesund       Norway       AES\n",
       "2         Aarhus      Denmark       AAR\n",
       "3     Abbotsford           BC    Canada\n",
       "4     Abbotsford          BC    Canada \n",
       "...          ...          ...       ...\n",
       "1574    Zanzibar     Tanzania       ZNZ\n",
       "1575    Zaragoza        Spain       ZAZ\n",
       "1576   Zhengzhou        China       CGO\n",
       "1577    Zhoushan        China       HSN\n",
       "1578      Zurich  Switzerland       ZRH\n",
       "\n",
       "[1579 rows x 3 columns]"
      ]
     },
     "execution_count": 8,
     "metadata": {},
     "output_type": "execute_result"
    }
   ],
   "source": [
    "df"
   ]
  }
 ],
 "metadata": {
  "kernelspec": {
   "display_name": "forms",
   "language": "python",
   "name": "python3"
  },
  "language_info": {
   "codemirror_mode": {
    "name": "ipython",
    "version": 3
   },
   "file_extension": ".py",
   "mimetype": "text/x-python",
   "name": "python",
   "nbconvert_exporter": "python",
   "pygments_lexer": "ipython3",
   "version": "3.13.1"
  }
 },
 "nbformat": 4,
 "nbformat_minor": 2
}
